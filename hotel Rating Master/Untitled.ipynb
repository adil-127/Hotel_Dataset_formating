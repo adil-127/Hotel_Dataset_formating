{
 "cells": [
  {
   "cell_type": "code",
   "execution_count": 1,
   "id": "47c5ca5b-6171-49d5-993b-bc3c2cf0aff8",
   "metadata": {},
   "outputs": [],
   "source": [
    "import pandas as pd\n"
   ]
  },
  {
   "cell_type": "code",
   "execution_count": 2,
   "id": "f71fe349-9818-47f2-b21c-9e9586a7aa32",
   "metadata": {},
   "outputs": [],
   "source": [
    "\n",
    "import pandas as pd \n",
    "import codecs\n",
    "with codecs.open('hotels.csv','r',encoding='ISO-8859-1') as f:\n",
    "    df=pd.read_csv(f)"
   ]
  },
  {
   "cell_type": "code",
   "execution_count": 3,
   "id": "24d2a0b2-0d46-4045-bfd0-47daa0bb29af",
   "metadata": {},
   "outputs": [
    {
     "data": {
      "text/html": [
       "<div>\n",
       "<style scoped>\n",
       "    .dataframe tbody tr th:only-of-type {\n",
       "        vertical-align: middle;\n",
       "    }\n",
       "\n",
       "    .dataframe tbody tr th {\n",
       "        vertical-align: top;\n",
       "    }\n",
       "\n",
       "    .dataframe thead th {\n",
       "        text-align: right;\n",
       "    }\n",
       "</style>\n",
       "<table border=\"1\" class=\"dataframe\">\n",
       "  <thead>\n",
       "    <tr style=\"text-align: right;\">\n",
       "      <th></th>\n",
       "      <th>countyCode</th>\n",
       "      <th>countyName</th>\n",
       "      <th>cityCode</th>\n",
       "      <th>cityName</th>\n",
       "      <th>HotelCode</th>\n",
       "      <th>HotelName</th>\n",
       "      <th>HotelRating</th>\n",
       "      <th>Address</th>\n",
       "      <th>Attractions</th>\n",
       "      <th>Description</th>\n",
       "      <th>FaxNumber</th>\n",
       "      <th>HotelFacilities</th>\n",
       "      <th>Map</th>\n",
       "      <th>PhoneNumber</th>\n",
       "      <th>PinCode</th>\n",
       "      <th>HotelWebsiteUrl</th>\n",
       "    </tr>\n",
       "  </thead>\n",
       "  <tbody>\n",
       "    <tr>\n",
       "      <th>0</th>\n",
       "      <td>AL</td>\n",
       "      <td>Albania</td>\n",
       "      <td>106078</td>\n",
       "      <td>Albanien</td>\n",
       "      <td>1003300</td>\n",
       "      <td>De Paris Hotel</td>\n",
       "      <td>FourStar</td>\n",
       "      <td>Nr. 7 Brigada Viii Street Tirane</td>\n",
       "      <td>NaN</td>\n",
       "      <td>Hotel de Paris is a charming boutique hotel th...</td>\n",
       "      <td>42268822</td>\n",
       "      <td>Private parking Parking onsite Television in c...</td>\n",
       "      <td>41.32213|19.81665</td>\n",
       "      <td>00355 4226 5009</td>\n",
       "      <td>1000</td>\n",
       "      <td>https://www.booking.com/hotel/al/de-paris.html</td>\n",
       "    </tr>\n",
       "    <tr>\n",
       "      <th>1</th>\n",
       "      <td>AL</td>\n",
       "      <td>Albania</td>\n",
       "      <td>106078</td>\n",
       "      <td>Albanien</td>\n",
       "      <td>1003301</td>\n",
       "      <td>Hotel Green</td>\n",
       "      <td>FourStar</td>\n",
       "      <td>Rruga Kavajes. Kombinat Km 2. Vaqarr VaqarrTir...</td>\n",
       "      <td>NaN</td>\n",
       "      <td>Located in a suburb of Tirana, Hotel Green is ...</td>\n",
       "      <td>35548520058</td>\n",
       "      <td>airport pick up wifi available in all areas Ai...</td>\n",
       "      <td>41.30413|19.74703</td>\n",
       "      <td>+35548520057</td>\n",
       "      <td>1041</td>\n",
       "      <td>https://www.booking.com/hotel/al/hotel-green.html</td>\n",
       "    </tr>\n",
       "    <tr>\n",
       "      <th>2</th>\n",
       "      <td>AL</td>\n",
       "      <td>Albania</td>\n",
       "      <td>106078</td>\n",
       "      <td>Albanien</td>\n",
       "      <td>1003302</td>\n",
       "      <td>Theranda Hotel</td>\n",
       "      <td>ThreeStar</td>\n",
       "      <td>Rr. Andon Zako Cajupi Villa 6 &amp; 7 Villa 6 &amp; 7T...</td>\n",
       "      <td>NaN</td>\n",
       "      <td>Set in Tirana, 1.2 km from Skanderbeg Square, ...</td>\n",
       "      <td>00355 (0)42273689</td>\n",
       "      <td>face masks for guests available all plates  cu...</td>\n",
       "      <td>41.3216|19.81199</td>\n",
       "      <td>00355 (0)42273766</td>\n",
       "      <td>1019</td>\n",
       "      <td>https://www.booking.com/hotel/al/theranda.html</td>\n",
       "    </tr>\n",
       "    <tr>\n",
       "      <th>3</th>\n",
       "      <td>AL</td>\n",
       "      <td>Albania</td>\n",
       "      <td>106078</td>\n",
       "      <td>Albanien</td>\n",
       "      <td>1003303</td>\n",
       "      <td>Seven Hotel</td>\n",
       "      <td>ThreeStar</td>\n",
       "      <td>KAVAJA STREET, CLOSE TURKISH AMBASSY TIRANA</td>\n",
       "      <td>Skanderbeg Square: within 500 metre</td>\n",
       "      <td>This hotel enjoys an enviable setting in Tiran...</td>\n",
       "      <td>NaN</td>\n",
       "      <td>À la carte dinner Breakfast buffet Breakfast C...</td>\n",
       "      <td>41.328027|19.815052</td>\n",
       "      <td>NaN</td>\n",
       "      <td>1001</td>\n",
       "      <td>http://www.hotelseven-tirana.com/</td>\n",
       "    </tr>\n",
       "    <tr>\n",
       "      <th>4</th>\n",
       "      <td>AL</td>\n",
       "      <td>Albania</td>\n",
       "      <td>106078</td>\n",
       "      <td>Albanien</td>\n",
       "      <td>1003325</td>\n",
       "      <td>Viktoria</td>\n",
       "      <td>ThreeStar</td>\n",
       "      <td>Rruga E Elbasanit Km 4 Sauk SaukTirana</td>\n",
       "      <td>NaN</td>\n",
       "      <td>Located in a new residential area at the edge ...</td>\n",
       "      <td>+355695406986</td>\n",
       "      <td>internet services Ironing service Family rooms...</td>\n",
       "      <td>41.29125|19.85349</td>\n",
       "      <td>355 69 5406986</td>\n",
       "      <td>1000</td>\n",
       "      <td>https://www.booking.com/hotel/al/viktoria-sauk...</td>\n",
       "    </tr>\n",
       "  </tbody>\n",
       "</table>\n",
       "</div>"
      ],
      "text/plain": [
       "  countyCode  countyName   cityCode  cityName   HotelCode       HotelName  \\\n",
       "0         AL     Albania     106078  Albanien     1003300  De Paris Hotel   \n",
       "1         AL     Albania     106078  Albanien     1003301     Hotel Green   \n",
       "2         AL     Albania     106078  Albanien     1003302  Theranda Hotel   \n",
       "3         AL     Albania     106078  Albanien     1003303     Seven Hotel   \n",
       "4         AL     Albania     106078  Albanien     1003325        Viktoria   \n",
       "\n",
       "   HotelRating                                            Address  \\\n",
       "0     FourStar                  Nr. 7 Brigada Viii Street Tirane    \n",
       "1     FourStar  Rruga Kavajes. Kombinat Km 2. Vaqarr VaqarrTir...   \n",
       "2    ThreeStar  Rr. Andon Zako Cajupi Villa 6 & 7 Villa 6 & 7T...   \n",
       "3    ThreeStar       KAVAJA STREET, CLOSE TURKISH AMBASSY TIRANA    \n",
       "4    ThreeStar            Rruga E Elbasanit Km 4 Sauk SaukTirana    \n",
       "\n",
       "                            Attractions  \\\n",
       "0                                   NaN   \n",
       "1                                   NaN   \n",
       "2                                   NaN   \n",
       "3  Skanderbeg Square: within 500 metre    \n",
       "4                                   NaN   \n",
       "\n",
       "                                         Description          FaxNumber  \\\n",
       "0  Hotel de Paris is a charming boutique hotel th...           42268822   \n",
       "1  Located in a suburb of Tirana, Hotel Green is ...        35548520058   \n",
       "2  Set in Tirana, 1.2 km from Skanderbeg Square, ...  00355 (0)42273689   \n",
       "3  This hotel enjoys an enviable setting in Tiran...                NaN   \n",
       "4  Located in a new residential area at the edge ...      +355695406986   \n",
       "\n",
       "                                     HotelFacilities                  Map  \\\n",
       "0  Private parking Parking onsite Television in c...    41.32213|19.81665   \n",
       "1  airport pick up wifi available in all areas Ai...    41.30413|19.74703   \n",
       "2  face masks for guests available all plates  cu...     41.3216|19.81199   \n",
       "3  À la carte dinner Breakfast buffet Breakfast C...  41.328027|19.815052   \n",
       "4  internet services Ironing service Family rooms...    41.29125|19.85349   \n",
       "\n",
       "         PhoneNumber  PinCode  \\\n",
       "0    00355 4226 5009     1000   \n",
       "1       +35548520057     1041   \n",
       "2  00355 (0)42273766     1019   \n",
       "3                NaN     1001   \n",
       "4     355 69 5406986     1000   \n",
       "\n",
       "                                     HotelWebsiteUrl  \n",
       "0     https://www.booking.com/hotel/al/de-paris.html  \n",
       "1  https://www.booking.com/hotel/al/hotel-green.html  \n",
       "2     https://www.booking.com/hotel/al/theranda.html  \n",
       "3                  http://www.hotelseven-tirana.com/  \n",
       "4  https://www.booking.com/hotel/al/viktoria-sauk...  "
      ]
     },
     "execution_count": 3,
     "metadata": {},
     "output_type": "execute_result"
    }
   ],
   "source": [
    "df.head()"
   ]
  },
  {
   "cell_type": "code",
   "execution_count": 4,
   "id": "bd06fef1-232a-45c7-bac3-5f40564d9a53",
   "metadata": {},
   "outputs": [],
   "source": [
    "df.columns = df.columns.str.strip()\n",
    "\n",
    "df=df.drop(columns=['countyCode','cityCode','HotelCode','Attractions','Description','FaxNumber','HotelFacilities','PinCode','HotelWebsiteUrl'])"
   ]
  },
  {
   "cell_type": "code",
   "execution_count": 5,
   "id": "b6976b18-0267-4e87-a13b-cecd9d2275bf",
   "metadata": {},
   "outputs": [
    {
     "data": {
      "text/html": [
       "<div>\n",
       "<style scoped>\n",
       "    .dataframe tbody tr th:only-of-type {\n",
       "        vertical-align: middle;\n",
       "    }\n",
       "\n",
       "    .dataframe tbody tr th {\n",
       "        vertical-align: top;\n",
       "    }\n",
       "\n",
       "    .dataframe thead th {\n",
       "        text-align: right;\n",
       "    }\n",
       "</style>\n",
       "<table border=\"1\" class=\"dataframe\">\n",
       "  <thead>\n",
       "    <tr style=\"text-align: right;\">\n",
       "      <th></th>\n",
       "      <th>countyName</th>\n",
       "      <th>cityName</th>\n",
       "      <th>HotelName</th>\n",
       "      <th>HotelRating</th>\n",
       "      <th>Address</th>\n",
       "      <th>Map</th>\n",
       "      <th>PhoneNumber</th>\n",
       "    </tr>\n",
       "  </thead>\n",
       "  <tbody>\n",
       "    <tr>\n",
       "      <th>0</th>\n",
       "      <td>Albania</td>\n",
       "      <td>Albanien</td>\n",
       "      <td>De Paris Hotel</td>\n",
       "      <td>FourStar</td>\n",
       "      <td>Nr. 7 Brigada Viii Street Tirane</td>\n",
       "      <td>41.32213|19.81665</td>\n",
       "      <td>00355 4226 5009</td>\n",
       "    </tr>\n",
       "    <tr>\n",
       "      <th>1</th>\n",
       "      <td>Albania</td>\n",
       "      <td>Albanien</td>\n",
       "      <td>Hotel Green</td>\n",
       "      <td>FourStar</td>\n",
       "      <td>Rruga Kavajes. Kombinat Km 2. Vaqarr VaqarrTir...</td>\n",
       "      <td>41.30413|19.74703</td>\n",
       "      <td>+35548520057</td>\n",
       "    </tr>\n",
       "    <tr>\n",
       "      <th>2</th>\n",
       "      <td>Albania</td>\n",
       "      <td>Albanien</td>\n",
       "      <td>Theranda Hotel</td>\n",
       "      <td>ThreeStar</td>\n",
       "      <td>Rr. Andon Zako Cajupi Villa 6 &amp; 7 Villa 6 &amp; 7T...</td>\n",
       "      <td>41.3216|19.81199</td>\n",
       "      <td>00355 (0)42273766</td>\n",
       "    </tr>\n",
       "    <tr>\n",
       "      <th>3</th>\n",
       "      <td>Albania</td>\n",
       "      <td>Albanien</td>\n",
       "      <td>Seven Hotel</td>\n",
       "      <td>ThreeStar</td>\n",
       "      <td>KAVAJA STREET, CLOSE TURKISH AMBASSY TIRANA</td>\n",
       "      <td>41.328027|19.815052</td>\n",
       "      <td>NaN</td>\n",
       "    </tr>\n",
       "    <tr>\n",
       "      <th>4</th>\n",
       "      <td>Albania</td>\n",
       "      <td>Albanien</td>\n",
       "      <td>Viktoria</td>\n",
       "      <td>ThreeStar</td>\n",
       "      <td>Rruga E Elbasanit Km 4 Sauk SaukTirana</td>\n",
       "      <td>41.29125|19.85349</td>\n",
       "      <td>355 69 5406986</td>\n",
       "    </tr>\n",
       "  </tbody>\n",
       "</table>\n",
       "</div>"
      ],
      "text/plain": [
       "  countyName  cityName       HotelName HotelRating  \\\n",
       "0    Albania  Albanien  De Paris Hotel    FourStar   \n",
       "1    Albania  Albanien     Hotel Green    FourStar   \n",
       "2    Albania  Albanien  Theranda Hotel   ThreeStar   \n",
       "3    Albania  Albanien     Seven Hotel   ThreeStar   \n",
       "4    Albania  Albanien        Viktoria   ThreeStar   \n",
       "\n",
       "                                             Address                  Map  \\\n",
       "0                  Nr. 7 Brigada Viii Street Tirane     41.32213|19.81665   \n",
       "1  Rruga Kavajes. Kombinat Km 2. Vaqarr VaqarrTir...    41.30413|19.74703   \n",
       "2  Rr. Andon Zako Cajupi Villa 6 & 7 Villa 6 & 7T...     41.3216|19.81199   \n",
       "3       KAVAJA STREET, CLOSE TURKISH AMBASSY TIRANA   41.328027|19.815052   \n",
       "4            Rruga E Elbasanit Km 4 Sauk SaukTirana     41.29125|19.85349   \n",
       "\n",
       "         PhoneNumber  \n",
       "0    00355 4226 5009  \n",
       "1       +35548520057  \n",
       "2  00355 (0)42273766  \n",
       "3                NaN  \n",
       "4     355 69 5406986  "
      ]
     },
     "execution_count": 5,
     "metadata": {},
     "output_type": "execute_result"
    }
   ],
   "source": [
    "df.head()"
   ]
  },
  {
   "cell_type": "code",
   "execution_count": 6,
   "id": "b087087c-c01d-4ffc-bb46-6271715910bd",
   "metadata": {},
   "outputs": [
    {
     "data": {
      "text/html": [
       "<div>\n",
       "<style scoped>\n",
       "    .dataframe tbody tr th:only-of-type {\n",
       "        vertical-align: middle;\n",
       "    }\n",
       "\n",
       "    .dataframe tbody tr th {\n",
       "        vertical-align: top;\n",
       "    }\n",
       "\n",
       "    .dataframe thead th {\n",
       "        text-align: right;\n",
       "    }\n",
       "</style>\n",
       "<table border=\"1\" class=\"dataframe\">\n",
       "  <thead>\n",
       "    <tr style=\"text-align: right;\">\n",
       "      <th></th>\n",
       "      <th>countyName</th>\n",
       "      <th>cityName</th>\n",
       "      <th>HotelName</th>\n",
       "      <th>HotelRating</th>\n",
       "      <th>Address</th>\n",
       "      <th>Map</th>\n",
       "      <th>PhoneNumber</th>\n",
       "    </tr>\n",
       "  </thead>\n",
       "  <tbody>\n",
       "    <tr>\n",
       "      <th>866143</th>\n",
       "      <td>United States</td>\n",
       "      <td>Abbeville,   Louisiana</td>\n",
       "      <td>Sunbelt Lodge Motel</td>\n",
       "      <td>TwoStar</td>\n",
       "      <td>1903 Veterans Memorial Drive AbbevilleLouisian...</td>\n",
       "      <td>29.9806|-92.11452</td>\n",
       "      <td>+13378981453</td>\n",
       "    </tr>\n",
       "    <tr>\n",
       "      <th>866144</th>\n",
       "      <td>United States</td>\n",
       "      <td>Abbeville,   Louisiana</td>\n",
       "      <td>Budget Inn &amp; Suites</td>\n",
       "      <td>TwoStar</td>\n",
       "      <td>2115 Charity Street AbbevilleLouisiana 70510</td>\n",
       "      <td>29.97315|-92.11281</td>\n",
       "      <td>1-337-8989770</td>\n",
       "    </tr>\n",
       "    <tr>\n",
       "      <th>866145</th>\n",
       "      <td>United States</td>\n",
       "      <td>Abbeville,   Louisiana</td>\n",
       "      <td>Best Western Abbeville Inn &amp; Suites</td>\n",
       "      <td>TwoStar</td>\n",
       "      <td>3515 Veterans Memorial Dr Abbeville AbbevilleL...</td>\n",
       "      <td>29.967878|-92.08536</td>\n",
       "      <td>1-337-740-4100</td>\n",
       "    </tr>\n",
       "    <tr>\n",
       "      <th>866146</th>\n",
       "      <td>United States</td>\n",
       "      <td>Abbeville,   Louisiana</td>\n",
       "      <td>Motel 6 Abbeville LA</td>\n",
       "      <td>TwoStar</td>\n",
       "      <td>3523 Veterans Memorial Drive AbbevilleLouisian...</td>\n",
       "      <td>29.968056|-92.08443</td>\n",
       "      <td>+1 337 898 3180</td>\n",
       "    </tr>\n",
       "    <tr>\n",
       "      <th>866147</th>\n",
       "      <td>United States</td>\n",
       "      <td>Abbeville,   Louisiana</td>\n",
       "      <td>Days Inn by Wyndham Abbeville</td>\n",
       "      <td>TwoStar</td>\n",
       "      <td>730 Veterans Memorial Dr AbbevilleLouisiana 70...</td>\n",
       "      <td>29.981226|-92.12469</td>\n",
       "      <td>1-337-7404666</td>\n",
       "    </tr>\n",
       "  </tbody>\n",
       "</table>\n",
       "</div>"
      ],
      "text/plain": [
       "           countyName                cityName  \\\n",
       "866143  United States  Abbeville,   Louisiana   \n",
       "866144  United States  Abbeville,   Louisiana   \n",
       "866145  United States  Abbeville,   Louisiana   \n",
       "866146  United States  Abbeville,   Louisiana   \n",
       "866147  United States  Abbeville,   Louisiana   \n",
       "\n",
       "                                  HotelName HotelRating  \\\n",
       "866143                  Sunbelt Lodge Motel     TwoStar   \n",
       "866144                  Budget Inn & Suites     TwoStar   \n",
       "866145  Best Western Abbeville Inn & Suites     TwoStar   \n",
       "866146                 Motel 6 Abbeville LA     TwoStar   \n",
       "866147        Days Inn by Wyndham Abbeville     TwoStar   \n",
       "\n",
       "                                                  Address  \\\n",
       "866143  1903 Veterans Memorial Drive AbbevilleLouisian...   \n",
       "866144      2115 Charity Street AbbevilleLouisiana 70510    \n",
       "866145  3515 Veterans Memorial Dr Abbeville AbbevilleL...   \n",
       "866146  3523 Veterans Memorial Drive AbbevilleLouisian...   \n",
       "866147  730 Veterans Memorial Dr AbbevilleLouisiana 70...   \n",
       "\n",
       "                        Map      PhoneNumber  \n",
       "866143    29.9806|-92.11452     +13378981453  \n",
       "866144   29.97315|-92.11281    1-337-8989770  \n",
       "866145  29.967878|-92.08536   1-337-740-4100  \n",
       "866146  29.968056|-92.08443  +1 337 898 3180  \n",
       "866147  29.981226|-92.12469    1-337-7404666  "
      ]
     },
     "execution_count": 6,
     "metadata": {},
     "output_type": "execute_result"
    }
   ],
   "source": [
    "usa=df[df['countyName']=='United States']\n",
    "usa.head()"
   ]
  },
  {
   "cell_type": "code",
   "execution_count": 35,
   "id": "4d08982c-4fb9-41f3-8d87-251721f2187b",
   "metadata": {},
   "outputs": [
    {
     "data": {
      "text/plain": [
       "HotelRating\n",
       "TwoStar      49111\n",
       "ThreeStar    45174\n",
       "All          30186\n",
       "FourStar     12724\n",
       "OneStar       1646\n",
       "FiveStar      1027\n",
       "Name: count, dtype: int64"
      ]
     },
     "execution_count": 35,
     "metadata": {},
     "output_type": "execute_result"
    }
   ],
   "source": [
    "usa['HotelRating'].value_counts()"
   ]
  },
  {
   "cell_type": "code",
   "execution_count": 36,
   "id": "80769701-a013-43ed-9e1d-d2f92b48b5b7",
   "metadata": {},
   "outputs": [],
   "source": [
    "# usa_OneStar.head()\n",
    "# usa_OneStar = usa_OneStar.reset_index()\n",
    "\n",
    "\n",
    "# usa_OneStar=usa[usa['HotelRating']=='OneStar']\n",
    "# usa_TwoStar=usa[usa['HotelRating']=='TwoStar']\n",
    "# usa_ThreeStar=usa[usa['HotelRating']=='ThreeStar']\n",
    "# usa_fourStar=usa[usa['HotelRating']=='FourStar']\n",
    "# usa_FiveStar=usa[usa['HotelRating']=='FiveStar']\n",
    "\n",
    "\n",
    "# usa_OneStar.to_csv('usa_OneStar.csv', index=True)\n",
    "# usa_TwoStar.to_csv('usa_TwoStar.csv', index=True)\n",
    "# usa_ThreeStar.to_csv('usa_ThreeStar.csv', index=True)\n",
    "# usa_fourStar.to_csv('usa_fourStar.csv', index=True)\n",
    "# usa_FiveStar.to_csv('usa_FiveStar.csv', index=True)\n",
    "\n",
    "\n",
    "\n"
   ]
  },
  {
   "cell_type": "code",
   "execution_count": null,
   "id": "17fd1fc4-4dd4-4655-819c-9182d11bd4fc",
   "metadata": {},
   "outputs": [],
   "source": []
  },
  {
   "cell_type": "code",
   "execution_count": 7,
   "id": "8409570e-c2ae-415b-9371-e60b8805c5ca",
   "metadata": {},
   "outputs": [
    {
     "name": "stderr",
     "output_type": "stream",
     "text": [
      "/tmp/ipykernel_36852/3726732870.py:4: SettingWithCopyWarning: \n",
      "A value is trying to be set on a copy of a slice from a DataFrame.\n",
      "Try using .loc[row_indexer,col_indexer] = value instead\n",
      "\n",
      "See the caveats in the documentation: https://pandas.pydata.org/pandas-docs/stable/user_guide/indexing.html#returning-a-view-versus-a-copy\n",
      "  usa['state']=split_data[1]\n"
     ]
    },
    {
     "data": {
      "text/html": [
       "<div>\n",
       "<style scoped>\n",
       "    .dataframe tbody tr th:only-of-type {\n",
       "        vertical-align: middle;\n",
       "    }\n",
       "\n",
       "    .dataframe tbody tr th {\n",
       "        vertical-align: top;\n",
       "    }\n",
       "\n",
       "    .dataframe thead th {\n",
       "        text-align: right;\n",
       "    }\n",
       "</style>\n",
       "<table border=\"1\" class=\"dataframe\">\n",
       "  <thead>\n",
       "    <tr style=\"text-align: right;\">\n",
       "      <th></th>\n",
       "      <th>countyName</th>\n",
       "      <th>cityName</th>\n",
       "      <th>HotelName</th>\n",
       "      <th>HotelRating</th>\n",
       "      <th>Address</th>\n",
       "      <th>Map</th>\n",
       "      <th>PhoneNumber</th>\n",
       "      <th>state</th>\n",
       "    </tr>\n",
       "  </thead>\n",
       "  <tbody>\n",
       "    <tr>\n",
       "      <th>866143</th>\n",
       "      <td>United States</td>\n",
       "      <td>Abbeville,   Louisiana</td>\n",
       "      <td>Sunbelt Lodge Motel</td>\n",
       "      <td>TwoStar</td>\n",
       "      <td>1903 Veterans Memorial Drive AbbevilleLouisian...</td>\n",
       "      <td>29.9806|-92.11452</td>\n",
       "      <td>+13378981453</td>\n",
       "      <td>Louisiana</td>\n",
       "    </tr>\n",
       "    <tr>\n",
       "      <th>866144</th>\n",
       "      <td>United States</td>\n",
       "      <td>Abbeville,   Louisiana</td>\n",
       "      <td>Budget Inn &amp; Suites</td>\n",
       "      <td>TwoStar</td>\n",
       "      <td>2115 Charity Street AbbevilleLouisiana 70510</td>\n",
       "      <td>29.97315|-92.11281</td>\n",
       "      <td>1-337-8989770</td>\n",
       "      <td>Louisiana</td>\n",
       "    </tr>\n",
       "    <tr>\n",
       "      <th>866145</th>\n",
       "      <td>United States</td>\n",
       "      <td>Abbeville,   Louisiana</td>\n",
       "      <td>Best Western Abbeville Inn &amp; Suites</td>\n",
       "      <td>TwoStar</td>\n",
       "      <td>3515 Veterans Memorial Dr Abbeville AbbevilleL...</td>\n",
       "      <td>29.967878|-92.08536</td>\n",
       "      <td>1-337-740-4100</td>\n",
       "      <td>Louisiana</td>\n",
       "    </tr>\n",
       "    <tr>\n",
       "      <th>866146</th>\n",
       "      <td>United States</td>\n",
       "      <td>Abbeville,   Louisiana</td>\n",
       "      <td>Motel 6 Abbeville LA</td>\n",
       "      <td>TwoStar</td>\n",
       "      <td>3523 Veterans Memorial Drive AbbevilleLouisian...</td>\n",
       "      <td>29.968056|-92.08443</td>\n",
       "      <td>+1 337 898 3180</td>\n",
       "      <td>Louisiana</td>\n",
       "    </tr>\n",
       "    <tr>\n",
       "      <th>866147</th>\n",
       "      <td>United States</td>\n",
       "      <td>Abbeville,   Louisiana</td>\n",
       "      <td>Days Inn by Wyndham Abbeville</td>\n",
       "      <td>TwoStar</td>\n",
       "      <td>730 Veterans Memorial Dr AbbevilleLouisiana 70...</td>\n",
       "      <td>29.981226|-92.12469</td>\n",
       "      <td>1-337-7404666</td>\n",
       "      <td>Louisiana</td>\n",
       "    </tr>\n",
       "  </tbody>\n",
       "</table>\n",
       "</div>"
      ],
      "text/plain": [
       "           countyName                cityName  \\\n",
       "866143  United States  Abbeville,   Louisiana   \n",
       "866144  United States  Abbeville,   Louisiana   \n",
       "866145  United States  Abbeville,   Louisiana   \n",
       "866146  United States  Abbeville,   Louisiana   \n",
       "866147  United States  Abbeville,   Louisiana   \n",
       "\n",
       "                                  HotelName HotelRating  \\\n",
       "866143                  Sunbelt Lodge Motel     TwoStar   \n",
       "866144                  Budget Inn & Suites     TwoStar   \n",
       "866145  Best Western Abbeville Inn & Suites     TwoStar   \n",
       "866146                 Motel 6 Abbeville LA     TwoStar   \n",
       "866147        Days Inn by Wyndham Abbeville     TwoStar   \n",
       "\n",
       "                                                  Address  \\\n",
       "866143  1903 Veterans Memorial Drive AbbevilleLouisian...   \n",
       "866144      2115 Charity Street AbbevilleLouisiana 70510    \n",
       "866145  3515 Veterans Memorial Dr Abbeville AbbevilleL...   \n",
       "866146  3523 Veterans Memorial Drive AbbevilleLouisian...   \n",
       "866147  730 Veterans Memorial Dr AbbevilleLouisiana 70...   \n",
       "\n",
       "                        Map      PhoneNumber         state  \n",
       "866143    29.9806|-92.11452     +13378981453     Louisiana  \n",
       "866144   29.97315|-92.11281    1-337-8989770     Louisiana  \n",
       "866145  29.967878|-92.08536   1-337-740-4100     Louisiana  \n",
       "866146  29.968056|-92.08443  +1 337 898 3180     Louisiana  \n",
       "866147  29.981226|-92.12469    1-337-7404666     Louisiana  "
      ]
     },
     "execution_count": 7,
     "metadata": {},
     "output_type": "execute_result"
    }
   ],
   "source": [
    "split_data = usa['cityName'].str.split(',', expand=True)\n",
    "# usa.loc[:, 'state'] = split_data[1]\n",
    "\n",
    "usa['state']=split_data[1]\n",
    "usa.head()\n"
   ]
  },
  {
   "cell_type": "code",
   "execution_count": 8,
   "id": "c1b3a178-5f5e-4fb0-ad9f-a91cf50462fb",
   "metadata": {},
   "outputs": [
    {
     "data": {
      "text/plain": [
       "countyName     0\n",
       "cityName       0\n",
       "HotelName      0\n",
       "HotelRating    0\n",
       "Address        0\n",
       "Map            0\n",
       "PhoneNumber    0\n",
       "state          0\n",
       "dtype: int64"
      ]
     },
     "execution_count": 8,
     "metadata": {},
     "output_type": "execute_result"
    }
   ],
   "source": [
    "usa=usa.dropna()\n",
    "usa.isnull().sum()\n",
    "\n",
    "\n",
    "# df.isnull().sum()"
   ]
  },
  {
   "cell_type": "code",
   "execution_count": 9,
   "id": "56727ae7-e11b-4de1-8284-5cc32a62ca23",
   "metadata": {},
   "outputs": [
    {
     "data": {
      "text/html": [
       "<div>\n",
       "<style scoped>\n",
       "    .dataframe tbody tr th:only-of-type {\n",
       "        vertical-align: middle;\n",
       "    }\n",
       "\n",
       "    .dataframe tbody tr th {\n",
       "        vertical-align: top;\n",
       "    }\n",
       "\n",
       "    .dataframe thead th {\n",
       "        text-align: right;\n",
       "    }\n",
       "</style>\n",
       "<table border=\"1\" class=\"dataframe\">\n",
       "  <thead>\n",
       "    <tr style=\"text-align: right;\">\n",
       "      <th></th>\n",
       "      <th>countyName</th>\n",
       "      <th>cityName</th>\n",
       "      <th>HotelName</th>\n",
       "      <th>HotelRating</th>\n",
       "      <th>Address</th>\n",
       "      <th>Map</th>\n",
       "      <th>PhoneNumber</th>\n",
       "      <th>state</th>\n",
       "    </tr>\n",
       "  </thead>\n",
       "  <tbody>\n",
       "  </tbody>\n",
       "</table>\n",
       "</div>"
      ],
      "text/plain": [
       "Empty DataFrame\n",
       "Columns: [countyName, cityName, HotelName, HotelRating, Address, Map, PhoneNumber, state]\n",
       "Index: []"
      ]
     },
     "execution_count": 9,
     "metadata": {},
     "output_type": "execute_result"
    }
   ],
   "source": [
    "usa_junk=usa[usa.isnull().any(axis=1)]\n",
    "usa_junk.head()"
   ]
  },
  {
   "cell_type": "code",
   "execution_count": 10,
   "id": "bed833d0-10a9-4606-9d92-35767eea4dfe",
   "metadata": {},
   "outputs": [],
   "source": [
    "# # usa_OneStar.to_csv('usa_OneStar.csv', index=True)\n",
    "# usa_junk=usa_junk.reset_index(drop=True)\n",
    "# usa_junk.to_csv('usa_junk.csv',index=True)"
   ]
  },
  {
   "cell_type": "code",
   "execution_count": 11,
   "id": "b5b34c03-55bf-4ed1-b309-ccadf2af4546",
   "metadata": {},
   "outputs": [],
   "source": [
    "# usa.dropna()"
   ]
  },
  {
   "cell_type": "code",
   "execution_count": 42,
   "id": "c930c24e-df9a-44c3-8eae-2702a03ea8a0",
   "metadata": {},
   "outputs": [
    {
     "data": {
      "text/plain": [
       "state\n",
       "   Florida                 16032\n",
       "   California               9617\n",
       "   Texas                    7744\n",
       "   Hawaii                   4023\n",
       "   New York                 3449\n",
       "   North Carolina           3333\n",
       "   Georgia                  3216\n",
       "   Maryland                 2899\n",
       "   Colorado                 2866\n",
       "   Pennsylvania             2754\n",
       "   Tennessee                2754\n",
       "   Illinois                 2476\n",
       "   South Carolina           2448\n",
       "   Ohio                     2396\n",
       "   Arizona                  2225\n",
       "   Virginia                 2081\n",
       "   Michigan                 2000\n",
       "   Washington               1828\n",
       "   Oregon                   1824\n",
       "   Missouri                 1793\n",
       "   Minnesota                1747\n",
       "   Massachusetts            1711\n",
       "   Alabama                  1607\n",
       "   Wisconsin                1496\n",
       "   Louisiana                1452\n",
       "   New Jersey               1437\n",
       "   Indiana                  1303\n",
       "   Utah                     1268\n",
       "   New Mexico               1243\n",
       "   Mississippi              1093\n",
       "   Iowa                     1077\n",
       "   Oklahoma                 1012\n",
       "   Kentucky                  995\n",
       "   Arkansas                  889\n",
       "   Kansas                    882\n",
       "   Nevada                    666\n",
       "   Connecticut               635\n",
       "   Montana                   591\n",
       "   New Hampshire             557\n",
       "   Vermont                   506\n",
       "   Wyoming                   499\n",
       "   Idaho                     459\n",
       "   Nebraska                  456\n",
       "   West Virginia             448\n",
       "   District of Columbia      447\n",
       "   South Dakota              434\n",
       "   Alaska                    412\n",
       "   Rhode Island              397\n",
       "   North Dakota              297\n",
       "   Delaware                  232\n",
       " Hawaii County               149\n",
       "   Maine                      67\n",
       "   MISSOURI                    1\n",
       "Name: count, dtype: int64"
      ]
     },
     "execution_count": 42,
     "metadata": {},
     "output_type": "execute_result"
    }
   ],
   "source": [
    "usa['state'].value_counts()"
   ]
  },
  {
   "cell_type": "code",
   "execution_count": 12,
   "id": "24c3065c-2813-4657-9212-5eeb7d0ec2e2",
   "metadata": {},
   "outputs": [],
   "source": [
    "filt=usa[usa['state'].isin(['Alaska', 'Hawaii'])]\n"
   ]
  },
  {
   "cell_type": "code",
   "execution_count": 13,
   "id": "021f892c-b0de-4e2f-92f9-ced997c873b5",
   "metadata": {},
   "outputs": [
    {
     "data": {
      "text/plain": [
       "   Florida                 16032\n",
       "   California               9617\n",
       "   Texas                    7744\n",
       "   Hawaii                   4023\n",
       "   New York                 3449\n",
       "   North Carolina           3333\n",
       "   Georgia                  3216\n",
       "   Maryland                 2899\n",
       "   Colorado                 2866\n",
       "   Pennsylvania             2754\n",
       "   Tennessee                2754\n",
       "   Illinois                 2476\n",
       "   South Carolina           2448\n",
       "   Ohio                     2396\n",
       "   Arizona                  2225\n",
       "   Virginia                 2081\n",
       "   Michigan                 2000\n",
       "   Washington               1828\n",
       "   Oregon                   1824\n",
       "   Missouri                 1793\n",
       "   Minnesota                1747\n",
       "   Massachusetts            1711\n",
       "   Alabama                  1607\n",
       "   Wisconsin                1496\n",
       "   Louisiana                1452\n",
       "   New Jersey               1437\n",
       "   Indiana                  1303\n",
       "   Utah                     1268\n",
       "   New Mexico               1243\n",
       "   Mississippi              1093\n",
       "   Iowa                     1077\n",
       "   Oklahoma                 1012\n",
       "   Kentucky                  995\n",
       "   Arkansas                  889\n",
       "   Kansas                    882\n",
       "   Nevada                    666\n",
       "   Connecticut               635\n",
       "   Montana                   591\n",
       "   New Hampshire             557\n",
       "   Vermont                   506\n",
       "   Wyoming                   499\n",
       "   Idaho                     459\n",
       "   Nebraska                  456\n",
       "   West Virginia             448\n",
       "   District of Columbia      447\n",
       "   South Dakota              434\n",
       "   Alaska                    412\n",
       "   Rhode Island              397\n",
       "   North Dakota              297\n",
       "   Delaware                  232\n",
       " Hawaii County               149\n",
       "   Maine                      67\n",
       "   MISSOURI                    1\n",
       "Name: state, dtype: int64"
      ]
     },
     "execution_count": 13,
     "metadata": {},
     "output_type": "execute_result"
    }
   ],
   "source": [
    "usa['state'].value_counts()"
   ]
  },
  {
   "cell_type": "code",
   "execution_count": 14,
   "id": "cb61a0fc-b6d1-47a8-8796-179e86b311e9",
   "metadata": {},
   "outputs": [],
   "source": [
    "states_to_drop = [\"Hawaii\", \"Hawaii County\", \"Alaska\"]\n",
    "\n",
    "usa['state'] = usa['state'].str.strip().str.lower()\n",
    "\n",
    "# Convert the states to drop to lowercase\n",
    "states_to_drop = [state.lower() for state in states_to_drop]\n",
    "\n",
    "# Drop the rows where the 'state' column matches any of the states to drop\n",
    "usa = usa[~usa['state'].isin(states_to_drop)]\n",
    "\n",
    "# Reset the index\n",
    "usa.reset_index(drop=True, inplace=True)\n",
    "\n",
    "# Display the updated DataFrame\n"
   ]
  },
  {
   "cell_type": "code",
   "execution_count": 15,
   "id": "4a113d50-0bd4-4f79-bb2c-944b836acce4",
   "metadata": {},
   "outputs": [
    {
     "data": {
      "text/plain": [
       "florida                 16032\n",
       "california               9617\n",
       "texas                    7744\n",
       "new york                 3449\n",
       "north carolina           3333\n",
       "georgia                  3216\n",
       "maryland                 2899\n",
       "colorado                 2866\n",
       "pennsylvania             2754\n",
       "tennessee                2754\n",
       "illinois                 2476\n",
       "south carolina           2448\n",
       "ohio                     2396\n",
       "arizona                  2225\n",
       "virginia                 2081\n",
       "michigan                 2000\n",
       "washington               1828\n",
       "oregon                   1824\n",
       "missouri                 1794\n",
       "minnesota                1747\n",
       "massachusetts            1711\n",
       "alabama                  1607\n",
       "wisconsin                1496\n",
       "louisiana                1452\n",
       "new jersey               1437\n",
       "indiana                  1303\n",
       "utah                     1268\n",
       "new mexico               1243\n",
       "mississippi              1093\n",
       "iowa                     1077\n",
       "oklahoma                 1012\n",
       "kentucky                  995\n",
       "arkansas                  889\n",
       "kansas                    882\n",
       "nevada                    666\n",
       "connecticut               635\n",
       "montana                   591\n",
       "new hampshire             557\n",
       "vermont                   506\n",
       "wyoming                   499\n",
       "idaho                     459\n",
       "nebraska                  456\n",
       "west virginia             448\n",
       "district of columbia      447\n",
       "south dakota              434\n",
       "rhode island              397\n",
       "north dakota              297\n",
       "delaware                  232\n",
       "maine                      67\n",
       "Name: state, dtype: int64"
      ]
     },
     "execution_count": 15,
     "metadata": {},
     "output_type": "execute_result"
    }
   ],
   "source": [
    "usa['state'].value_counts()"
   ]
  },
  {
   "cell_type": "code",
   "execution_count": 16,
   "id": "4303a448-941f-4888-9799-058aa933773f",
   "metadata": {},
   "outputs": [],
   "source": [
    "state_to_timezone = {\n",
    "    'alabama': 'Central', 'alaska': 'Alaska', 'arizona': 'Mountain', 'arkansas': 'Central', \n",
    "    'california': 'Pacific', 'colorado': 'Mountain', 'connecticut': 'Eastern', 'delaware': 'Eastern', \n",
    "    'district of columbia': 'Eastern', 'florida': 'Eastern', 'georgia': 'Eastern', 'hawaii': 'Hawaii-Aleutian', \n",
    "    'idaho': 'Mountain', 'illinois': 'Central', 'indiana': 'Eastern', 'iowa': 'Central', 'kansas': 'Central', \n",
    "    'kentucky': 'Eastern', 'louisiana': 'Central', 'maine': 'Eastern', 'maryland': 'Eastern', \n",
    "    'massachusetts': 'Eastern', 'michigan': 'Eastern', 'minnesota': 'Central', 'mississippi': 'Central', \n",
    "    'missouri': 'Central', 'montana': 'Mountain', 'nebraska': 'Central', 'nevada': 'Pacific', \n",
    "    'new hampshire': 'Eastern', 'new jersey': 'Eastern', 'new mexico': 'Mountain', 'new york': 'Eastern', \n",
    "    'north carolina': 'Eastern', 'north dakota': 'Central', 'ohio': 'Eastern', 'oklahoma': 'Central', \n",
    "    'oregon': 'Pacific', 'pennsylvania': 'Eastern', 'rhode island': 'Eastern', 'south carolina': 'Eastern', \n",
    "    'south dakota': 'Central', 'tennessee': 'Central', 'texas': 'Central', 'utah': 'Mountain', \n",
    "    'vermont': 'Eastern', 'virginia': 'Eastern', 'washington': 'Pacific', 'west virginia': 'Eastern', \n",
    "    'wisconsin': 'Central', 'wyoming': 'Mountain'\n",
    "}\n",
    "\n",
    "# Create the timezone column\n",
    "usa['timezone'] = usa['state'].map(state_to_timezone)"
   ]
  },
  {
   "cell_type": "code",
   "execution_count": 17,
   "id": "42344c15-f518-4070-94a1-e6a486d30677",
   "metadata": {},
   "outputs": [
    {
     "data": {
      "text/plain": [
       "florida                 16032\n",
       "california               9617\n",
       "texas                    7744\n",
       "new york                 3449\n",
       "north carolina           3333\n",
       "georgia                  3216\n",
       "maryland                 2899\n",
       "colorado                 2866\n",
       "pennsylvania             2754\n",
       "tennessee                2754\n",
       "illinois                 2476\n",
       "south carolina           2448\n",
       "ohio                     2396\n",
       "arizona                  2225\n",
       "virginia                 2081\n",
       "michigan                 2000\n",
       "washington               1828\n",
       "oregon                   1824\n",
       "missouri                 1794\n",
       "minnesota                1747\n",
       "massachusetts            1711\n",
       "alabama                  1607\n",
       "wisconsin                1496\n",
       "louisiana                1452\n",
       "new jersey               1437\n",
       "indiana                  1303\n",
       "utah                     1268\n",
       "new mexico               1243\n",
       "mississippi              1093\n",
       "iowa                     1077\n",
       "oklahoma                 1012\n",
       "kentucky                  995\n",
       "arkansas                  889\n",
       "kansas                    882\n",
       "nevada                    666\n",
       "connecticut               635\n",
       "montana                   591\n",
       "new hampshire             557\n",
       "vermont                   506\n",
       "wyoming                   499\n",
       "idaho                     459\n",
       "nebraska                  456\n",
       "west virginia             448\n",
       "district of columbia      447\n",
       "south dakota              434\n",
       "rhode island              397\n",
       "north dakota              297\n",
       "delaware                  232\n",
       "maine                      67\n",
       "Name: state, dtype: int64"
      ]
     },
     "execution_count": 17,
     "metadata": {},
     "output_type": "execute_result"
    }
   ],
   "source": [
    "usa['state'].value_counts()"
   ]
  },
  {
   "cell_type": "code",
   "execution_count": 18,
   "id": "60f7e62a-8147-4048-ae5b-85e1891dc836",
   "metadata": {},
   "outputs": [
    {
     "data": {
      "text/plain": [
       "Eastern     49343\n",
       "Central     27210\n",
       "Pacific     13935\n",
       "Mountain     9151\n",
       "Name: timezone, dtype: int64"
      ]
     },
     "execution_count": 18,
     "metadata": {},
     "output_type": "execute_result"
    }
   ],
   "source": [
    "usa['timezone'].value_counts()"
   ]
  },
  {
   "cell_type": "code",
   "execution_count": null,
   "id": "d0c96991-d172-49eb-a7fe-3eedf15e7098",
   "metadata": {},
   "outputs": [],
   "source": []
  },
  {
   "cell_type": "code",
   "execution_count": 19,
   "id": "1b415276-2603-44c2-8d6c-c210f854e652",
   "metadata": {},
   "outputs": [],
   "source": [
    "usa_Central=usa[usa['timezone']=='Central']\n",
    "usa_Eastern=usa[usa['timezone']=='Eastern']\n",
    "usa_Pacific=usa[usa['timezone']=='Pacific']\n",
    "usa_Mountain=usa[usa['timezone']=='Mountain']\n",
    "\n",
    "usa_Central.head()\n",
    "\n",
    "# usa_Central.to_csv('usa_Central.csv', index=True)\n",
    "# usa_Eastern.to_csv('usa_Eastern.csv', index=True)\n",
    "usa_Pacific.to_csv('usa_Pacific_Master.csv', index=True)\n",
    "# usa_Mountain.to_csv('usa_Mountain.csv', index=True)\n"
   ]
  },
  {
   "cell_type": "code",
   "execution_count": 20,
   "id": "684b7b48-9486-4e5a-ac0b-daa6423dd191",
   "metadata": {},
   "outputs": [],
   "source": [
    "# usa_Eastern.to_csv('usa_Eastern.csv')"
   ]
  },
  {
   "cell_type": "code",
   "execution_count": null,
   "id": "ab898672-16b6-4c4c-8d62-2749dd4f57fd",
   "metadata": {},
   "outputs": [],
   "source": []
  },
  {
   "cell_type": "code",
   "execution_count": null,
   "id": "4b55b7b6-4050-41ed-8f94-960de6c15abb",
   "metadata": {},
   "outputs": [],
   "source": []
  },
  {
   "cell_type": "code",
   "execution_count": 21,
   "id": "4917b731-8547-42b2-b39d-bcb3bd5f64ab",
   "metadata": {},
   "outputs": [],
   "source": [
    "# usa_junk=usa[usa.isnull().any(axis=1)]\n",
    "# usa_junk.head()\n",
    "# # usa_OneStar.to_csv('usa_OneStar.csv', index=True)\n",
    "# usa_junk=usa_junk.reset_index(drop=True)\n",
    "# usa_junk.to_csv('junk.csv',index=True)"
   ]
  },
  {
   "cell_type": "code",
   "execution_count": 22,
   "id": "5ee467c5-13c0-4dc6-bb24-918c13631552",
   "metadata": {},
   "outputs": [],
   "source": [
    "usa=usa.dropna()"
   ]
  },
  {
   "cell_type": "code",
   "execution_count": 23,
   "id": "2babcf90-64d7-4fe7-bb6d-35e3d62e6a63",
   "metadata": {},
   "outputs": [
    {
     "data": {
      "text/plain": [
       "countyName     0\n",
       "cityName       0\n",
       "HotelName      0\n",
       "HotelRating    0\n",
       "Address        0\n",
       "Map            0\n",
       "PhoneNumber    0\n",
       "state          0\n",
       "timezone       0\n",
       "dtype: int64"
      ]
     },
     "execution_count": 23,
     "metadata": {},
     "output_type": "execute_result"
    }
   ],
   "source": [
    "usa.isnull().sum()\n"
   ]
  },
  {
   "cell_type": "code",
   "execution_count": 24,
   "id": "6ba4c425-8a1a-4e1c-aec9-70c063f55850",
   "metadata": {},
   "outputs": [],
   "source": [
    "Central = pd.ExcelWriter('Usa_Central.xlsx', engine='xlsxwriter')\n",
    "Eastern = pd.ExcelWriter('Usa_Eastern.xlsx', engine='xlsxwriter')\n",
    "Pacific = pd.ExcelWriter('Usa_Pacific.xlsx', engine='xlsxwriter')\n",
    "Mountain = pd.ExcelWriter('Usa_Mountain.xlsx', engine='xlsxwriter')\n",
    "\n",
    "usa_Central=usa[usa['timezone']=='Central']\n",
    "usa_Eastern=usa[usa['timezone']=='Eastern']\n",
    "usa_Pacific=usa[usa['timezone']=='Pacific']\n",
    "usa_Mountain=usa[usa['timezone']=='Mountain']\n",
    "\n",
    "usa_Central.to_excel(Central, sheet_name='Central Master', index=False)\n",
    "\n",
    "usa_Eastern.to_excel(Eastern, sheet_name='Eastern Master', index=False)\n",
    "usa_Pacific.to_excel(Pacific, sheet_name='Pacific Master', index=False)\n",
    "usa_Mountain.to_excel(Mountain, sheet_name='Mountain Master', index=False)\n"
   ]
  },
  {
   "cell_type": "code",
   "execution_count": 25,
   "id": "c542e38f-8d80-4cc2-a7da-3f16aa6a360e",
   "metadata": {},
   "outputs": [],
   "source": [
    "Central.close()\n",
    "Eastern.close()\n",
    "\n",
    "Pacific.close()\n",
    "Mountain.close()"
   ]
  },
  {
   "cell_type": "code",
   "execution_count": null,
   "id": "e2fce9a2-38ae-493a-859f-1fa7ff1a3d7a",
   "metadata": {},
   "outputs": [],
   "source": []
  },
  {
   "cell_type": "code",
   "execution_count": 28,
   "id": "6e1e34d4-51cf-4dc4-92ec-26c55a2dd6c9",
   "metadata": {},
   "outputs": [
    {
     "data": {
      "text/plain": [
       "HotelRating\n",
       "TwoStar      46951\n",
       "ThreeStar    36751\n",
       "FourStar     10071\n",
       "All           3733\n",
       "OneStar       1326\n",
       "FiveStar       813\n",
       "Name: count, dtype: int64"
      ]
     },
     "execution_count": 28,
     "metadata": {},
     "output_type": "execute_result"
    }
   ],
   "source": [
    "usa['HotelRating'].value_counts()"
   ]
  },
  {
   "cell_type": "code",
   "execution_count": 29,
   "id": "da3e6dfc-90dc-45d5-93d3-4248a49a7234",
   "metadata": {},
   "outputs": [],
   "source": [
    "usa_Central_1=usa_Central[usa_Central['HotelRating']=='OneStar']\n",
    "usa_Central_2=usa_Central[usa_Central['HotelRating']=='TwoStar']\n",
    "usa_Central_3=usa_Central[usa_Central['HotelRating']=='ThreeStar']\n",
    "usa_Central_4=usa_Central[usa_Central['HotelRating']=='FourStar']\n",
    "usa_Central_5=usa_Central[usa_Central['HotelRating']=='FiveStar']\n",
    "usa_Central_all=usa_Central[usa_Central['HotelRating']=='All']"
   ]
  },
  {
   "cell_type": "code",
   "execution_count": 30,
   "id": "46370278-76f3-4a60-8601-e57a30c125c0",
   "metadata": {},
   "outputs": [],
   "source": [
    "usa_Pacific_1=usa_Pacific[usa_Pacific['HotelRating']=='OneStar']\n",
    "usa_Pacific_2=usa_Pacific[usa_Pacific['HotelRating']=='TwoStar']\n",
    "usa_Pacific_3=usa_Pacific[usa_Pacific['HotelRating']=='ThreeStar']\n",
    "usa_Pacific_4=usa_Pacific[usa_Pacific['HotelRating']=='FourStar']\n",
    "usa_Pacific_5=usa_Pacific[usa_Pacific['HotelRating']=='FiveStar']\n",
    "usa_Pacific_all=usa_Pacific[usa_Pacific['HotelRating']=='All']"
   ]
  },
  {
   "cell_type": "code",
   "execution_count": 31,
   "id": "9050a3a3-881c-45e2-8c54-bb17c11b3a25",
   "metadata": {},
   "outputs": [],
   "source": [
    "usa_Mountain_1=usa_Mountain[usa_Mountain['HotelRating']=='OneStar']\n",
    "usa_Mountain_2=usa_Mountain[usa_Mountain['HotelRating']=='TwoStar']\n",
    "usa_Mountain_3=usa_Mountain[usa_Mountain['HotelRating']=='ThreeStar']\n",
    "usa_Mountain_4=usa_Mountain[usa_Mountain['HotelRating']=='FourStar']\n",
    "usa_Mountain_5=usa_Mountain[usa_Mountain['HotelRating']=='FiveStar']\n",
    "usa_Mountain_all=usa_Mountain[usa_Mountain['HotelRating']=='All']"
   ]
  },
  {
   "cell_type": "code",
   "execution_count": null,
   "id": "540a7d16-143a-4d5d-8bea-f40153e2425c",
   "metadata": {},
   "outputs": [],
   "source": []
  },
  {
   "cell_type": "code",
   "execution_count": 32,
   "id": "73843eaa-df3d-437e-af10-34a97e3425bc",
   "metadata": {},
   "outputs": [],
   "source": [
    "# usa_Mountain_1.to_excel(Mountain, sheet_name='star1', index=False)\n",
    "# usa_Mountain_2.to_excel(Mountain, sheet_name='star2', index=False)\n",
    "# usa_Mountain_3.to_excel(Mountain, sheet_name='star3', index=False)\n",
    "# usa_Mountain_4.to_excel(Mountain, sheet_name='star4', index=False)\n",
    "# usa_Mountain_5.to_excel(Mountain, sheet_name='star5', index=False)\n",
    "# usa_Mountain_all.to_excel(Mountain, sheet_name='all', index=False)"
   ]
  },
  {
   "cell_type": "code",
   "execution_count": 33,
   "id": "12a5ae8f-4d40-4c04-9fb1-9628b02c07d3",
   "metadata": {},
   "outputs": [],
   "source": [
    "# Eastern.close()"
   ]
  },
  {
   "cell_type": "code",
   "execution_count": 34,
   "id": "5baefb66-62f3-439d-9ae4-fa266f08263b",
   "metadata": {},
   "outputs": [],
   "source": [
    "# Pacific.close()\n"
   ]
  },
  {
   "cell_type": "code",
   "execution_count": 35,
   "id": "5cf9c0dc-721e-48d1-b5a6-2b04bb769417",
   "metadata": {},
   "outputs": [],
   "source": [
    "# Mountain.close()"
   ]
  },
  {
   "cell_type": "code",
   "execution_count": 36,
   "id": "ba80c93f-8c21-4ec9-879a-1a1148f9a417",
   "metadata": {},
   "outputs": [
    {
     "data": {
      "text/html": [
       "<div>\n",
       "<style scoped>\n",
       "    .dataframe tbody tr th:only-of-type {\n",
       "        vertical-align: middle;\n",
       "    }\n",
       "\n",
       "    .dataframe tbody tr th {\n",
       "        vertical-align: top;\n",
       "    }\n",
       "\n",
       "    .dataframe thead th {\n",
       "        text-align: right;\n",
       "    }\n",
       "</style>\n",
       "<table border=\"1\" class=\"dataframe\">\n",
       "  <thead>\n",
       "    <tr style=\"text-align: right;\">\n",
       "      <th></th>\n",
       "      <th>countyName</th>\n",
       "      <th>cityName</th>\n",
       "      <th>HotelName</th>\n",
       "      <th>HotelRating</th>\n",
       "      <th>Address</th>\n",
       "      <th>PhoneNumber</th>\n",
       "      <th>state</th>\n",
       "      <th>timezone</th>\n",
       "    </tr>\n",
       "  </thead>\n",
       "  <tbody>\n",
       "    <tr>\n",
       "      <th>0</th>\n",
       "      <td>United States</td>\n",
       "      <td>Abbeville,   Louisiana</td>\n",
       "      <td>Sunbelt Lodge Motel</td>\n",
       "      <td>TwoStar</td>\n",
       "      <td>1903 Veterans Memorial Drive AbbevilleLouisian...</td>\n",
       "      <td>+13378981453</td>\n",
       "      <td>louisiana</td>\n",
       "      <td>Central</td>\n",
       "    </tr>\n",
       "    <tr>\n",
       "      <th>1</th>\n",
       "      <td>United States</td>\n",
       "      <td>Abbeville,   Louisiana</td>\n",
       "      <td>Budget Inn &amp; Suites</td>\n",
       "      <td>TwoStar</td>\n",
       "      <td>2115 Charity Street AbbevilleLouisiana 70510</td>\n",
       "      <td>1-337-8989770</td>\n",
       "      <td>louisiana</td>\n",
       "      <td>Central</td>\n",
       "    </tr>\n",
       "    <tr>\n",
       "      <th>2</th>\n",
       "      <td>United States</td>\n",
       "      <td>Abbeville,   Louisiana</td>\n",
       "      <td>Best Western Abbeville Inn &amp; Suites</td>\n",
       "      <td>TwoStar</td>\n",
       "      <td>3515 Veterans Memorial Dr Abbeville AbbevilleL...</td>\n",
       "      <td>1-337-740-4100</td>\n",
       "      <td>louisiana</td>\n",
       "      <td>Central</td>\n",
       "    </tr>\n",
       "    <tr>\n",
       "      <th>3</th>\n",
       "      <td>United States</td>\n",
       "      <td>Abbeville,   Louisiana</td>\n",
       "      <td>Motel 6 Abbeville LA</td>\n",
       "      <td>TwoStar</td>\n",
       "      <td>3523 Veterans Memorial Drive AbbevilleLouisian...</td>\n",
       "      <td>+1 337 898 3180</td>\n",
       "      <td>louisiana</td>\n",
       "      <td>Central</td>\n",
       "    </tr>\n",
       "    <tr>\n",
       "      <th>4</th>\n",
       "      <td>United States</td>\n",
       "      <td>Abbeville,   Louisiana</td>\n",
       "      <td>Days Inn by Wyndham Abbeville</td>\n",
       "      <td>TwoStar</td>\n",
       "      <td>730 Veterans Memorial Dr AbbevilleLouisiana 70...</td>\n",
       "      <td>1-337-7404666</td>\n",
       "      <td>louisiana</td>\n",
       "      <td>Central</td>\n",
       "    </tr>\n",
       "  </tbody>\n",
       "</table>\n",
       "</div>"
      ],
      "text/plain": [
       "      countyName                cityName                            HotelName  \\\n",
       "0  United States  Abbeville,   Louisiana                  Sunbelt Lodge Motel   \n",
       "1  United States  Abbeville,   Louisiana                  Budget Inn & Suites   \n",
       "2  United States  Abbeville,   Louisiana  Best Western Abbeville Inn & Suites   \n",
       "3  United States  Abbeville,   Louisiana                 Motel 6 Abbeville LA   \n",
       "4  United States  Abbeville,   Louisiana        Days Inn by Wyndham Abbeville   \n",
       "\n",
       "  HotelRating                                            Address  \\\n",
       "0     TwoStar  1903 Veterans Memorial Drive AbbevilleLouisian...   \n",
       "1     TwoStar      2115 Charity Street AbbevilleLouisiana 70510    \n",
       "2     TwoStar  3515 Veterans Memorial Dr Abbeville AbbevilleL...   \n",
       "3     TwoStar  3523 Veterans Memorial Drive AbbevilleLouisian...   \n",
       "4     TwoStar  730 Veterans Memorial Dr AbbevilleLouisiana 70...   \n",
       "\n",
       "       PhoneNumber      state timezone  \n",
       "0     +13378981453  louisiana  Central  \n",
       "1    1-337-8989770  louisiana  Central  \n",
       "2   1-337-740-4100  louisiana  Central  \n",
       "3  +1 337 898 3180  louisiana  Central  \n",
       "4    1-337-7404666  louisiana  Central  "
      ]
     },
     "execution_count": 36,
     "metadata": {},
     "output_type": "execute_result"
    }
   ],
   "source": [
    "usa_Central.head()"
   ]
  },
  {
   "cell_type": "code",
   "execution_count": 37,
   "id": "3cdf7bc6-8417-46a8-93f9-dc6f1dd0a167",
   "metadata": {},
   "outputs": [
    {
     "data": {
      "text/plain": [
       "state\n",
       "texas           7744\n",
       "tennessee       2754\n",
       "illinois        2476\n",
       "missouri        1794\n",
       "minnesota       1747\n",
       "alabama         1607\n",
       "wisconsin       1496\n",
       "louisiana       1452\n",
       "mississippi     1093\n",
       "iowa            1077\n",
       "oklahoma        1012\n",
       "arkansas         889\n",
       "kansas           882\n",
       "nebraska         456\n",
       "south dakota     434\n",
       "north dakota     297\n",
       "Name: count, dtype: int64"
      ]
     },
     "execution_count": 37,
     "metadata": {},
     "output_type": "execute_result"
    }
   ],
   "source": [
    "usa_Central['state'].value_counts()"
   ]
  },
  {
   "cell_type": "code",
   "execution_count": 38,
   "id": "6156aabf-cde1-4e0a-9c7d-865e960f562b",
   "metadata": {},
   "outputs": [
    {
     "data": {
      "text/plain": [
       "HotelRating\n",
       "TwoStar      16463\n",
       "ThreeStar     8049\n",
       "FourStar      1576\n",
       "All            607\n",
       "OneStar        425\n",
       "FiveStar        90\n",
       "Name: count, dtype: int64"
      ]
     },
     "execution_count": 38,
     "metadata": {},
     "output_type": "execute_result"
    }
   ],
   "source": [
    "usa_Central['HotelRating'].value_counts()"
   ]
  },
  {
   "cell_type": "code",
   "execution_count": 39,
   "id": "ff234782-4880-480e-b91c-731ee16cbb3b",
   "metadata": {},
   "outputs": [
    {
     "data": {
      "text/plain": [
       "state\n",
       "florida                 16032\n",
       "new york                 3449\n",
       "north carolina           3333\n",
       "georgia                  3216\n",
       "maryland                 2899\n",
       "pennsylvania             2755\n",
       "south carolina           2448\n",
       "ohio                     2396\n",
       "virginia                 2081\n",
       "michigan                 2000\n",
       "massachusetts            1711\n",
       "new jersey               1437\n",
       "indiana                  1303\n",
       "kentucky                  995\n",
       "connecticut               635\n",
       "new hampshire             557\n",
       "vermont                   506\n",
       "west virginia             448\n",
       "district of columbia      448\n",
       "rhode island              397\n",
       "delaware                  232\n",
       "maine                      67\n",
       "Name: count, dtype: int64"
      ]
     },
     "execution_count": 39,
     "metadata": {},
     "output_type": "execute_result"
    }
   ],
   "source": [
    "usa_Eastern['state'].value_counts()"
   ]
  },
  {
   "cell_type": "code",
   "execution_count": 40,
   "id": "63ae5f31-1f5e-4d29-abfd-7256141bdc47",
   "metadata": {},
   "outputs": [
    {
     "data": {
      "text/plain": [
       "state\n",
       "california    9620\n",
       "washington    1828\n",
       "oregon        1824\n",
       "nevada         666\n",
       "Name: count, dtype: int64"
      ]
     },
     "execution_count": 40,
     "metadata": {},
     "output_type": "execute_result"
    }
   ],
   "source": [
    "usa_Pacific['state'].value_counts()"
   ]
  },
  {
   "cell_type": "code",
   "execution_count": 41,
   "id": "a646009f-a919-48f8-92c0-c720482ef415",
   "metadata": {},
   "outputs": [
    {
     "data": {
      "text/plain": [
       "state\n",
       "colorado      2867\n",
       "arizona       2225\n",
       "utah          1268\n",
       "new mexico    1243\n",
       "montana        591\n",
       "wyoming        499\n",
       "idaho          459\n",
       "Name: count, dtype: int64"
      ]
     },
     "execution_count": 41,
     "metadata": {},
     "output_type": "execute_result"
    }
   ],
   "source": [
    "usa_Mountain['state'].value_counts()"
   ]
  },
  {
   "cell_type": "code",
   "execution_count": null,
   "id": "a579b9dc-6e3b-44e4-ba2d-2ff6e76887b8",
   "metadata": {},
   "outputs": [],
   "source": []
  }
 ],
 "metadata": {
  "kernelspec": {
   "display_name": "Python 3 (ipykernel)",
   "language": "python",
   "name": "python3"
  },
  "language_info": {
   "codemirror_mode": {
    "name": "ipython",
    "version": 3
   },
   "file_extension": ".py",
   "mimetype": "text/x-python",
   "name": "python",
   "nbconvert_exporter": "python",
   "pygments_lexer": "ipython3",
   "version": "3.10.13"
  }
 },
 "nbformat": 4,
 "nbformat_minor": 5
}
