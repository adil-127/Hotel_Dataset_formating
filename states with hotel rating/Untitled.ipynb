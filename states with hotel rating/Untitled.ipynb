{
 "cells": [
  {
   "cell_type": "code",
   "execution_count": 46,
   "id": "3e2c95d5-a7de-4855-a7e0-0cd4f6fac575",
   "metadata": {},
   "outputs": [],
   "source": [
    "import pandas as pd\n"
   ]
  },
  {
   "cell_type": "code",
   "execution_count": 47,
   "id": "07c404c9-97b4-4c74-b453-3ac2592833ad",
   "metadata": {},
   "outputs": [],
   "source": [
    "df = pd.read_csv('USA_East_Data_Master.csv')\n"
   ]
  },
  {
   "cell_type": "code",
   "execution_count": 48,
   "id": "27aa40d8-8925-4756-a5f9-7dfa3b925548",
   "metadata": {},
   "outputs": [
    {
     "data": {
      "text/html": [
       "<div>\n",
       "<style scoped>\n",
       "    .dataframe tbody tr th:only-of-type {\n",
       "        vertical-align: middle;\n",
       "    }\n",
       "\n",
       "    .dataframe tbody tr th {\n",
       "        vertical-align: top;\n",
       "    }\n",
       "\n",
       "    .dataframe thead th {\n",
       "        text-align: right;\n",
       "    }\n",
       "</style>\n",
       "<table border=\"1\" class=\"dataframe\">\n",
       "  <thead>\n",
       "    <tr style=\"text-align: right;\">\n",
       "      <th></th>\n",
       "      <th>Property Name</th>\n",
       "      <th>Address</th>\n",
       "      <th>Phone</th>\n",
       "      <th>Phone 2</th>\n",
       "      <th>Phone 3</th>\n",
       "      <th>HotelRating</th>\n",
       "      <th>state</th>\n",
       "      <th>cityName</th>\n",
       "      <th>timezone</th>\n",
       "    </tr>\n",
       "  </thead>\n",
       "  <tbody>\n",
       "    <tr>\n",
       "      <th>0</th>\n",
       "      <td>Georgian Garden Inn</td>\n",
       "      <td>5159 State Route 23 WindhamNew York 12496</td>\n",
       "      <td>203-850-0612</td>\n",
       "      <td>518-898-4079</td>\n",
       "      <td>347-693-0800</td>\n",
       "      <td>FiveStar</td>\n",
       "      <td>new york</td>\n",
       "      <td>Kingston,   New York</td>\n",
       "      <td>Eastern</td>\n",
       "    </tr>\n",
       "    <tr>\n",
       "      <th>1</th>\n",
       "      <td>Sea Vista Resort</td>\n",
       "      <td>1701 South Atlantic Avenue New Smyrna BeachFlo...</td>\n",
       "      <td>386-428-2210</td>\n",
       "      <td>800-874-3917</td>\n",
       "      <td>386-428-2195</td>\n",
       "      <td>All</td>\n",
       "      <td>florida</td>\n",
       "      <td>Daytona Beach,   Florida</td>\n",
       "      <td>Eastern</td>\n",
       "    </tr>\n",
       "    <tr>\n",
       "      <th>2</th>\n",
       "      <td>Premiere Motor Inn</td>\n",
       "      <td>3218 Atlantic Avenue P.O. Box 96WildwoodNew Je...</td>\n",
       "      <td>609-522-6482</td>\n",
       "      <td>609-729-0050</td>\n",
       "      <td>609-729-0772</td>\n",
       "      <td>ThreeStar</td>\n",
       "      <td>new jersey</td>\n",
       "      <td>Wildwood,   New Jersey</td>\n",
       "      <td>Eastern</td>\n",
       "    </tr>\n",
       "    <tr>\n",
       "      <th>3</th>\n",
       "      <td>Olde Town Inn</td>\n",
       "      <td>349 Telfair Street AugustaGeorgia 30901</td>\n",
       "      <td>706-833-9463</td>\n",
       "      <td>706-831-2823</td>\n",
       "      <td>706-828-5600</td>\n",
       "      <td>All</td>\n",
       "      <td>georgia</td>\n",
       "      <td>Augusta,   Georgia</td>\n",
       "      <td>Eastern</td>\n",
       "    </tr>\n",
       "    <tr>\n",
       "      <th>4</th>\n",
       "      <td>Sand Castle</td>\n",
       "      <td>20000 Gulf Blvd. Indian ShoresFlorida 33785</td>\n",
       "      <td>727-365-1570</td>\n",
       "      <td>817-528-5003</td>\n",
       "      <td>727-244-4892</td>\n",
       "      <td>ThreeStar</td>\n",
       "      <td>florida</td>\n",
       "      <td>Indian Shores,   Florida</td>\n",
       "      <td>Eastern</td>\n",
       "    </tr>\n",
       "  </tbody>\n",
       "</table>\n",
       "</div>"
      ],
      "text/plain": [
       "         Property Name                                            Address  \\\n",
       "0  Georgian Garden Inn         5159 State Route 23 WindhamNew York 12496    \n",
       "1     Sea Vista Resort  1701 South Atlantic Avenue New Smyrna BeachFlo...   \n",
       "2   Premiere Motor Inn  3218 Atlantic Avenue P.O. Box 96WildwoodNew Je...   \n",
       "3        Olde Town Inn           349 Telfair Street AugustaGeorgia 30901    \n",
       "4          Sand Castle       20000 Gulf Blvd. Indian ShoresFlorida 33785    \n",
       "\n",
       "          Phone       Phone 2       Phone 3 HotelRating       state  \\\n",
       "0  203-850-0612  518-898-4079  347-693-0800    FiveStar    new york   \n",
       "1  386-428-2210  800-874-3917  386-428-2195         All     florida   \n",
       "2  609-522-6482  609-729-0050  609-729-0772   ThreeStar  new jersey   \n",
       "3  706-833-9463  706-831-2823  706-828-5600         All     georgia   \n",
       "4  727-365-1570  817-528-5003  727-244-4892   ThreeStar     florida   \n",
       "\n",
       "                   cityName timezone  \n",
       "0      Kingston,   New York  Eastern  \n",
       "1  Daytona Beach,   Florida  Eastern  \n",
       "2    Wildwood,   New Jersey  Eastern  \n",
       "3        Augusta,   Georgia  Eastern  \n",
       "4  Indian Shores,   Florida  Eastern  "
      ]
     },
     "execution_count": 48,
     "metadata": {},
     "output_type": "execute_result"
    }
   ],
   "source": [
    "df.head()"
   ]
  },
  {
   "cell_type": "code",
   "execution_count": 49,
   "id": "9e42443e-30f7-404a-9961-97d33e86b294",
   "metadata": {},
   "outputs": [],
   "source": [
    "unique_states = df['state'].unique()\n"
   ]
  },
  {
   "cell_type": "code",
   "execution_count": 50,
   "id": "a591bace-d7c9-4712-9f1b-84cb89e4bccb",
   "metadata": {},
   "outputs": [
    {
     "name": "stdout",
     "output_type": "stream",
     "text": [
      "['new york' 'florida' 'new jersey' 'georgia' 'maryland' 'north carolina'\n",
      " 'michigan' 'virginia' 'indiana' 'west virginia' 'ohio' 'rhode island'\n",
      " 'massachusetts' 'kentucky' 'district of columbia' 'pennsylvania'\n",
      " 'vermont' 'new hampshire' 'south carolina' 'connecticut' 'maine'\n",
      " 'delaware' nan]\n"
     ]
    }
   ],
   "source": [
    "print(unique_states)\n"
   ]
  },
  {
   "cell_type": "code",
   "execution_count": 51,
   "id": "4ed9eef7-2768-4ee0-9f03-e63570f9b700",
   "metadata": {},
   "outputs": [],
   "source": [
    "states_cleaned = [unique_states.replace(' ', '_') for unique_states in unique_states if pd.notnull(unique_states)]  # Filter out nan\n"
   ]
  },
  {
   "cell_type": "code",
   "execution_count": 52,
   "id": "09efe716-e1a3-4413-a4c8-5eb04a74bc12",
   "metadata": {},
   "outputs": [
    {
     "name": "stdout",
     "output_type": "stream",
     "text": [
      "['new_york', 'florida', 'new_jersey', 'georgia', 'maryland', 'north_carolina', 'michigan', 'virginia', 'indiana', 'west_virginia', 'ohio', 'rhode_island', 'massachusetts', 'kentucky', 'district_of_columbia', 'pennsylvania', 'vermont', 'new_hampshire', 'south_carolina', 'connecticut', 'maine', 'delaware']\n"
     ]
    }
   ],
   "source": [
    "print(states_cleaned)"
   ]
  },
  {
   "cell_type": "code",
   "execution_count": 53,
   "id": "4c95679a-5dc9-4abb-98b2-acc2b3c72bfa",
   "metadata": {},
   "outputs": [],
   "source": [
    "state_dfs = {}\n",
    "for i in range(len(states_cleaned)):\n",
    "    state_key = states_cleaned[i]\n",
    "    state_dfs[state_key]=df[df['state']==unique_states[i]].copy()"
   ]
  },
  {
   "cell_type": "code",
   "execution_count": 54,
   "id": "9fa5da96-5485-4a17-81aa-2e5aef128a2b",
   "metadata": {},
   "outputs": [
    {
     "name": "stdout",
     "output_type": "stream",
     "text": [
      "['new york' 'florida' 'new jersey' 'georgia' 'maryland' 'north carolina'\n",
      " 'michigan' 'virginia' 'indiana' 'west virginia' 'ohio' 'rhode island'\n",
      " 'massachusetts' 'kentucky' 'district of columbia' 'pennsylvania'\n",
      " 'vermont' 'new hampshire' 'south carolina' 'connecticut' 'maine'\n",
      " 'delaware' nan]\n"
     ]
    }
   ],
   "source": [
    "print(unique_states)"
   ]
  },
  {
   "cell_type": "code",
   "execution_count": 55,
   "id": "79d6d7a5-ff52-413e-ae62-a0d5f69e28b2",
   "metadata": {},
   "outputs": [
    {
     "name": "stdout",
     "output_type": "stream",
     "text": [
      "['FiveStar' 'All' 'ThreeStar' 'FourStar' 'TwoStar' 'OneStar' nan]\n"
     ]
    }
   ],
   "source": [
    "unq_hotel= df['HotelRating'].unique()\n",
    "print(unq_hotel)"
   ]
  },
  {
   "cell_type": "code",
   "execution_count": 56,
   "id": "faa7a4d6-9621-4022-98a7-7d7ef119a706",
   "metadata": {},
   "outputs": [
    {
     "name": "stdout",
     "output_type": "stream",
     "text": [
      "All\n",
      "ThreeStar\n",
      "FourStar\n",
      "TwoStar\n",
      "OneStar\n"
     ]
    }
   ],
   "source": [
    "for i in range(1,len(unq_hotel)-1):\n",
    "    print(unq_hotel[i])"
   ]
  },
  {
   "cell_type": "code",
   "execution_count": 58,
   "id": "cd54970f-732f-467f-b15d-89757f9baee6",
   "metadata": {},
   "outputs": [],
   "source": [
    "a=[unq_hotel[0]+'_'+unique_sta2\n",
    "tes[0]]"
   ]
  },
  {
   "cell_type": "code",
   "execution_count": 64,
   "id": "b16c9d9d-6c4c-450b-b77b-52d4a2d6b704",
   "metadata": {},
   "outputs": [],
   "source": [
    "hotelRating_states_list={}\n",
    "state_rat={}\n",
    "# for state_key, state_df in state_dfs.items():\n",
    "for index, (key, value) in enumerate(state_dfs.items()):\n",
    "    unq= state_dfs[key]['HotelRating'].unique()\n",
    "    for i in range(len(unq)):\n",
    "        # state_rat.append(key+'_'+unq[i])\n",
    "        if key not in state_rat:\n",
    "            state_rat[key] = []\n",
    "            \n",
    "        state_rat[key].append(key+'_'+unq[i])\n",
    "        hotel_key = key+'_'+unq[i]\n",
    "        hotelRating_states_list[hotel_key]=state_dfs[key][state_dfs[key]['HotelRating']==unq[i]].copy()\n",
    "        \n",
    "        \n",
    "\n",
    "        \n",
    "        \n",
    "        \n",
    "        \n"
   ]
  },
  {
   "cell_type": "code",
   "execution_count": 60,
   "id": "2cca0321-6119-45bf-bfbd-3732154ed58b",
   "metadata": {},
   "outputs": [
    {
     "data": {
      "text/html": [
       "<div>\n",
       "<style scoped>\n",
       "    .dataframe tbody tr th:only-of-type {\n",
       "        vertical-align: middle;\n",
       "    }\n",
       "\n",
       "    .dataframe tbody tr th {\n",
       "        vertical-align: top;\n",
       "    }\n",
       "\n",
       "    .dataframe thead th {\n",
       "        text-align: right;\n",
       "    }\n",
       "</style>\n",
       "<table border=\"1\" class=\"dataframe\">\n",
       "  <thead>\n",
       "    <tr style=\"text-align: right;\">\n",
       "      <th></th>\n",
       "      <th>Property Name</th>\n",
       "      <th>Address</th>\n",
       "      <th>Phone</th>\n",
       "      <th>Phone 2</th>\n",
       "      <th>Phone 3</th>\n",
       "      <th>HotelRating</th>\n",
       "      <th>state</th>\n",
       "      <th>cityName</th>\n",
       "      <th>timezone</th>\n",
       "    </tr>\n",
       "  </thead>\n",
       "  <tbody>\n",
       "    <tr>\n",
       "      <th>0</th>\n",
       "      <td>Georgian Garden Inn</td>\n",
       "      <td>5159 State Route 23 WindhamNew York 12496</td>\n",
       "      <td>203-850-0612</td>\n",
       "      <td>518-898-4079</td>\n",
       "      <td>347-693-0800</td>\n",
       "      <td>FiveStar</td>\n",
       "      <td>new york</td>\n",
       "      <td>Kingston,   New York</td>\n",
       "      <td>Eastern</td>\n",
       "    </tr>\n",
       "    <tr>\n",
       "      <th>1240</th>\n",
       "      <td>The Knickerbocker</td>\n",
       "      <td>6 Times Square 1466 Broadway10036 New York</td>\n",
       "      <td>212-204-4980</td>\n",
       "      <td>NaN</td>\n",
       "      <td>NaN</td>\n",
       "      <td>FiveStar</td>\n",
       "      <td>new york</td>\n",
       "      <td>New York,   New York</td>\n",
       "      <td>Eastern</td>\n",
       "    </tr>\n",
       "    <tr>\n",
       "      <th>1245</th>\n",
       "      <td>Gansevoort Meatpacking</td>\n",
       "      <td>18 9Th Avenue at 13th StreetNew YorkNew York 1...</td>\n",
       "      <td>212-206-6700</td>\n",
       "      <td>NaN</td>\n",
       "      <td>NaN</td>\n",
       "      <td>FiveStar</td>\n",
       "      <td>new york</td>\n",
       "      <td>New York,   New York</td>\n",
       "      <td>Eastern</td>\n",
       "    </tr>\n",
       "    <tr>\n",
       "      <th>1261</th>\n",
       "      <td>Crosby Street Hotel</td>\n",
       "      <td>79 Crosby Street New YorkNew York 10012</td>\n",
       "      <td>212-226-6400</td>\n",
       "      <td>NaN</td>\n",
       "      <td>NaN</td>\n",
       "      <td>FiveStar</td>\n",
       "      <td>new york</td>\n",
       "      <td>New York,   New York</td>\n",
       "      <td>Eastern</td>\n",
       "    </tr>\n",
       "    <tr>\n",
       "      <th>1269</th>\n",
       "      <td>The Beekman A Thompson Hotel</td>\n",
       "      <td>123 Nassau Street New YorkNew York 10038</td>\n",
       "      <td>212-233-2300</td>\n",
       "      <td>NaN</td>\n",
       "      <td>NaN</td>\n",
       "      <td>FiveStar</td>\n",
       "      <td>new york</td>\n",
       "      <td>New York,   New York</td>\n",
       "      <td>Eastern</td>\n",
       "    </tr>\n",
       "  </tbody>\n",
       "</table>\n",
       "</div>"
      ],
      "text/plain": [
       "                     Property Name  \\\n",
       "0              Georgian Garden Inn   \n",
       "1240             The Knickerbocker   \n",
       "1245        Gansevoort Meatpacking   \n",
       "1261           Crosby Street Hotel   \n",
       "1269  The Beekman A Thompson Hotel   \n",
       "\n",
       "                                                Address         Phone  \\\n",
       "0            5159 State Route 23 WindhamNew York 12496   203-850-0612   \n",
       "1240        6 Times Square 1466 Broadway10036 New York   212-204-4980   \n",
       "1245  18 9Th Avenue at 13th StreetNew YorkNew York 1...  212-206-6700   \n",
       "1261           79 Crosby Street New YorkNew York 10012   212-226-6400   \n",
       "1269          123 Nassau Street New YorkNew York 10038   212-233-2300   \n",
       "\n",
       "           Phone 2       Phone 3 HotelRating     state              cityName  \\\n",
       "0     518-898-4079  347-693-0800    FiveStar  new york  Kingston,   New York   \n",
       "1240           NaN           NaN    FiveStar  new york  New York,   New York   \n",
       "1245           NaN           NaN    FiveStar  new york  New York,   New York   \n",
       "1261           NaN           NaN    FiveStar  new york  New York,   New York   \n",
       "1269           NaN           NaN    FiveStar  new york  New York,   New York   \n",
       "\n",
       "     timezone  \n",
       "0     Eastern  \n",
       "1240  Eastern  \n",
       "1245  Eastern  \n",
       "1261  Eastern  \n",
       "1269  Eastern  "
      ]
     },
     "execution_count": 60,
     "metadata": {},
     "output_type": "execute_result"
    }
   ],
   "source": [
    "hotelRating_states_list['new_york_FiveStar'].head()"
   ]
  },
  {
   "cell_type": "code",
   "execution_count": 86,
   "id": "10742939-5323-4de3-964d-af6b85f02f46",
   "metadata": {},
   "outputs": [],
   "source": [
    "Excel_state={}\n",
    "for i in range(len(states_cleaned)):\n",
    "    state=states_cleaned[i]\n",
    "    excel=pd.ExcelWriter(f'{state}.xls',engine='xlsxwriter')\n",
    "    if state not in Excel_state:\n",
    "        Excel_state[state] = []\n",
    "    Excel_state[state].append(excel)\n",
    "    # Central = pd.ExcelWriter('Usa_Central.xlsx', engine='xlsxwriter')\n"
   ]
  },
  {
   "cell_type": "code",
   "execution_count": 88,
   "id": "321d86ad-504e-48f6-b443-2e0926a53a29",
   "metadata": {},
   "outputs": [
    {
     "name": "stdout",
     "output_type": "stream",
     "text": [
      "new_york new_york_FiveStar\n",
      "new_york new_york_ThreeStar\n",
      "new_york new_york_TwoStar\n",
      "new_york new_york_FourStar\n",
      "new_york new_york_OneStar\n",
      "new_york new_york_All\n",
      "florida florida_All\n",
      "florida florida_ThreeStar\n",
      "florida florida_FourStar\n",
      "florida florida_TwoStar\n",
      "florida florida_FiveStar\n",
      "florida florida_OneStar\n",
      "new_jersey new_jersey_ThreeStar\n",
      "new_jersey new_jersey_All\n",
      "new_jersey new_jersey_FourStar\n",
      "new_jersey new_jersey_TwoStar\n",
      "new_jersey new_jersey_OneStar\n",
      "new_jersey new_jersey_FiveStar\n",
      "georgia georgia_All\n",
      "georgia georgia_ThreeStar\n",
      "georgia georgia_TwoStar\n",
      "georgia georgia_FourStar\n",
      "georgia georgia_OneStar\n",
      "georgia georgia_FiveStar\n",
      "maryland maryland_All\n",
      "maryland maryland_ThreeStar\n",
      "maryland maryland_TwoStar\n",
      "maryland maryland_FourStar\n",
      "maryland maryland_OneStar\n",
      "maryland maryland_FiveStar\n",
      "north_carolina north_carolina_All\n",
      "north_carolina north_carolina_ThreeStar\n",
      "north_carolina north_carolina_TwoStar\n",
      "north_carolina north_carolina_FourStar\n",
      "north_carolina north_carolina_FiveStar\n",
      "north_carolina north_carolina_OneStar\n",
      "michigan michigan_FourStar\n",
      "michigan michigan_ThreeStar\n",
      "michigan michigan_TwoStar\n",
      "michigan michigan_All\n",
      "michigan michigan_OneStar\n",
      "michigan michigan_FiveStar\n",
      "virginia virginia_FourStar\n",
      "virginia virginia_All\n",
      "virginia virginia_TwoStar\n",
      "virginia virginia_ThreeStar\n",
      "virginia virginia_OneStar\n",
      "virginia virginia_FiveStar\n",
      "indiana indiana_ThreeStar\n",
      "indiana indiana_TwoStar\n",
      "indiana indiana_OneStar\n",
      "indiana indiana_FourStar\n",
      "indiana indiana_All\n",
      "indiana indiana_FiveStar\n",
      "west_virginia west_virginia_TwoStar\n",
      "west_virginia west_virginia_FourStar\n",
      "west_virginia west_virginia_ThreeStar\n",
      "west_virginia west_virginia_OneStar\n",
      "west_virginia west_virginia_All\n",
      "west_virginia west_virginia_FiveStar\n",
      "ohio ohio_ThreeStar\n",
      "ohio ohio_All\n",
      "ohio ohio_TwoStar\n",
      "ohio ohio_FourStar\n",
      "ohio ohio_FiveStar\n",
      "ohio ohio_OneStar\n",
      "rhode_island rhode_island_All\n",
      "rhode_island rhode_island_ThreeStar\n",
      "rhode_island rhode_island_TwoStar\n",
      "rhode_island rhode_island_FiveStar\n",
      "rhode_island rhode_island_FourStar\n",
      "rhode_island rhode_island_OneStar\n",
      "massachusetts massachusetts_All\n",
      "massachusetts massachusetts_FiveStar\n",
      "massachusetts massachusetts_TwoStar\n",
      "massachusetts massachusetts_ThreeStar\n",
      "massachusetts massachusetts_FourStar\n",
      "massachusetts massachusetts_OneStar\n",
      "kentucky kentucky_ThreeStar\n",
      "kentucky kentucky_TwoStar\n",
      "kentucky kentucky_FiveStar\n",
      "kentucky kentucky_FourStar\n",
      "kentucky kentucky_All\n",
      "kentucky kentucky_OneStar\n",
      "district_of_columbia district_of_columbia_All\n",
      "district_of_columbia district_of_columbia_ThreeStar\n",
      "district_of_columbia district_of_columbia_FourStar\n",
      "district_of_columbia district_of_columbia_TwoStar\n",
      "district_of_columbia district_of_columbia_FiveStar\n",
      "district_of_columbia district_of_columbia_OneStar\n",
      "pennsylvania pennsylvania_ThreeStar\n",
      "pennsylvania pennsylvania_TwoStar\n",
      "pennsylvania pennsylvania_FourStar\n",
      "pennsylvania pennsylvania_All\n",
      "pennsylvania pennsylvania_FiveStar\n",
      "pennsylvania pennsylvania_OneStar\n",
      "vermont vermont_ThreeStar\n",
      "vermont vermont_TwoStar\n",
      "vermont vermont_FourStar\n",
      "vermont vermont_All\n",
      "vermont vermont_FiveStar\n",
      "vermont vermont_OneStar\n",
      "new_hampshire new_hampshire_ThreeStar\n",
      "new_hampshire new_hampshire_TwoStar\n",
      "new_hampshire new_hampshire_All\n",
      "new_hampshire new_hampshire_FourStar\n",
      "new_hampshire new_hampshire_FiveStar\n",
      "new_hampshire new_hampshire_OneStar\n",
      "south_carolina south_carolina_TwoStar\n",
      "south_carolina south_carolina_ThreeStar\n",
      "south_carolina south_carolina_All\n",
      "south_carolina south_carolina_FiveStar\n",
      "south_carolina south_carolina_FourStar\n",
      "south_carolina south_carolina_OneStar\n",
      "connecticut connecticut_TwoStar\n",
      "connecticut connecticut_ThreeStar\n",
      "connecticut connecticut_FourStar\n",
      "connecticut connecticut_All\n",
      "connecticut connecticut_OneStar\n",
      "connecticut connecticut_FiveStar\n",
      "maine maine_ThreeStar\n",
      "maine maine_TwoStar\n",
      "maine maine_FourStar\n",
      "maine maine_All\n",
      "maine maine_OneStar\n",
      "maine maine_FiveStar\n",
      "delaware delaware_TwoStar\n",
      "delaware delaware_FourStar\n",
      "delaware delaware_ThreeStar\n",
      "delaware delaware_All\n"
     ]
    }
   ],
   "source": [
    "for index, (key,values) in enumerate(state_rat.items()):\n",
    "    for value in values:\n",
    "        hotelRating_states_list[value].to_excel(Excel_state[key][0],sheet_name=value,index=False)\n",
    "        print(key,value)"
   ]
  },
  {
   "cell_type": "code",
   "execution_count": 93,
   "id": "aa7d1bcd-7448-465c-873e-5df516c18ed9",
   "metadata": {},
   "outputs": [],
   "source": [
    "for values in Excel_state.values():\n",
    "    values[0].close()"
   ]
  },
  {
   "cell_type": "code",
   "execution_count": 81,
   "id": "3b196e23-1d78-4867-a9e6-ef4bfa299471",
   "metadata": {},
   "outputs": [
    {
     "name": "stdout",
     "output_type": "stream",
     "text": [
      "['new_york', 'florida', 'new_jersey', 'georgia', 'maryland', 'north_carolina', 'michigan', 'virginia', 'indiana', 'west_virginia', 'ohio', 'rhode_island', 'massachusetts', 'kentucky', 'district_of_columbia', 'pennsylvania', 'vermont', 'new_hampshire', 'south_carolina', 'connecticut', 'maine', 'delaware']\n"
     ]
    }
   ],
   "source": [
    "print(states_cleaned)"
   ]
  },
  {
   "cell_type": "code",
   "execution_count": null,
   "id": "c737358b-b253-488c-a01d-8670d8d500d3",
   "metadata": {},
   "outputs": [],
   "source": []
  }
 ],
 "metadata": {
  "kernelspec": {
   "display_name": "Python 3 (ipykernel)",
   "language": "python",
   "name": "python3"
  },
  "language_info": {
   "codemirror_mode": {
    "name": "ipython",
    "version": 3
   },
   "file_extension": ".py",
   "mimetype": "text/x-python",
   "name": "python",
   "nbconvert_exporter": "python",
   "pygments_lexer": "ipython3",
   "version": "3.10.13"
  }
 },
 "nbformat": 4,
 "nbformat_minor": 5
}
